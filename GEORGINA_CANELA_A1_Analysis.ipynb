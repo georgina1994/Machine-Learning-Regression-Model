{
 "cells": [
  {
   "cell_type": "markdown",
   "metadata": {},
   "source": [
    "# Machine Learning Predictive Revenue Model: Apprentice Chef, Inc\n",
    "\n",
    ">**Course:** Machine Learning <br> **Author:** Georgina Canela Ferre<br>\n",
    "\n",
    ">**Date:** 7th of March 2020 <br>\n",
    "\n",
    "\n",
    "## Company Summary:\n",
    "Apprentice Chef's is a company located in Silicon Valley, California.<br> The company aims to deliver meal sets with an average of cooking preparation of 30'<br> What customers like about Apprentice Chef? <br> 1. High quality of the aliments. <br> 2. Reduction of time dedicated to cook.\n",
    "\n",
    "Key information:\n",
    "**90%** of the revenue from Apprentice Chef comes from customers with **12 months or less ordering meal sets**\n",
    "\n",
    "## Goal of the case: \n",
    "\n",
    "In this analysis I aim to address the following question:<br>\n",
    "**How much revenue each customer will generate during their first year of orders?**\n",
    "<br> The target variable of the analysis will be the **revenue.**  \n",
    "\n",
    "## Hypothesis:\n",
    "In this section I state what are the possible hypothesis that may affect the revenue and may would help the prediction of the revenue:\n",
    "\n",
    "**H1 : Revenue has a positive correlation to average clicks per visit.**\n",
    "\n",
    "**H2 : Total photos viewed and master class attended indicates the engagement of the customers.**\n",
    "\n",
    "**H3 : Average time per site visit is a key driver of the revenue.**\n",
    "\n",
    "To state abovementioned hypothesis I have been researching about the key metrics a food delivery company should track. \n",
    "\n",
    "Link: https://www.searchenginejournal.com/ecommerce-metrics/323811/ <br>\n",
    "Link2: https://www.quora.com/What-are-the-typical-BizOps-metrics-KPIs-that-food-delivery-companies-like-UberEats-or-DoorDash-track\n",
    "***"
   ]
  },
  {
   "cell_type": "markdown",
   "metadata": {},
   "source": [
    "# Packages to use for EDA, Outliers Identification and ML model "
   ]
  },
  {
   "cell_type": "markdown",
   "metadata": {},
   "source": [
    "To start the analysis, I am going to import all required packages. \n",
    "See below comments."
   ]
  },
  {
   "cell_type": "code",
   "execution_count": 1,
   "metadata": {},
   "outputs": [],
   "source": [
    "####################\n",
    "#Importing packages#\n",
    "####################\n",
    "\n",
    "import pandas                  as pd                     # data science essentials\n",
    "import seaborn                 as sns                    # enhanced graphical output\n",
    "import matplotlib.pyplot       as plt                    # essential graphical output\n",
    "import numpy                   as np                     # to make mathematical calculations\n",
    "from matplotlib.ticker         import FormatStrFormatter # to customize x-axis\n",
    "\n",
    "### ML packages\n",
    "# Estimators\n",
    "import statsmodels.formula.api as smf                    # linear regression (statsmodels)\n",
    "from  sklearn.model_selection import train_test_split    # train/test split\n",
    "from sklearn.linear_model     import LinearRegression    # linear regression (scikit-learn)\n",
    "import sklearn.linear_model                              # linear model\n",
    "from sklearn.ensemble         import GradientBoostingRegressor\n",
    "\n",
    "#Preprocessing\n",
    "from sklearn.preprocessing import RobustScaler\n",
    "\n",
    "#Saving the original excel file \n",
    "file = 'Apprentice_Chef_Dataset.xlsx'\n",
    "\n",
    "#Read the excel file\n",
    "original_df = pd.read_excel(file)"
   ]
  },
  {
   "cell_type": "markdown",
   "metadata": {},
   "source": [
    "# Exploratory Data Analysis (EDA)"
   ]
  },
  {
   "cell_type": "markdown",
   "metadata": {},
   "source": [
    "In this section I am going to explore the data given from the data science team at Apprentice Chef. The data already has been queried, sampled and verified.\n",
    "***"
   ]
  },
  {
   "cell_type": "markdown",
   "metadata": {},
   "source": [
    "First of all, I want to explore the type of variables I am going to work on. That's why, in the following section I am importing the Apprentice Chef Data Dictionary because I want to have clearly stated the description of each variable and avoid any misconception.\n",
    "\n",
    "Furthermore, to know the data type of each feature gives an overview of the characteristics of each one: continuous, discrete, categorical or binomial. Knowing the type of variable is a really powerful tool to start to understand the dataset that I am going to explore. "
   ]
  },
  {
   "cell_type": "code",
   "execution_count": 2,
   "metadata": {},
   "outputs": [
    {
     "data": {
      "text/html": [
       "<div>\n",
       "<style scoped>\n",
       "    .dataframe tbody tr th:only-of-type {\n",
       "        vertical-align: middle;\n",
       "    }\n",
       "\n",
       "    .dataframe tbody tr th {\n",
       "        vertical-align: top;\n",
       "    }\n",
       "\n",
       "    .dataframe thead th {\n",
       "        text-align: right;\n",
       "    }\n",
       "</style>\n",
       "<table border=\"1\" class=\"dataframe\">\n",
       "  <thead>\n",
       "    <tr style=\"text-align: right;\">\n",
       "      <th></th>\n",
       "      <th>Column</th>\n",
       "      <th>Data Type</th>\n",
       "      <th>Description</th>\n",
       "    </tr>\n",
       "  </thead>\n",
       "  <tbody>\n",
       "    <tr>\n",
       "      <th>0</th>\n",
       "      <td>REVENUE</td>\n",
       "      <td>float</td>\n",
       "      <td>Total revenue generated over the first year of...</td>\n",
       "    </tr>\n",
       "    <tr>\n",
       "      <th>1</th>\n",
       "      <td>CROSS_SELL_SUCCESS</td>\n",
       "      <td>integer</td>\n",
       "      <td>Success of promoting Halfway There (1 = SUCCES...</td>\n",
       "    </tr>\n",
       "    <tr>\n",
       "      <th>2</th>\n",
       "      <td>NAME</td>\n",
       "      <td>string</td>\n",
       "      <td>Full name of customer (collected upon initial ...</td>\n",
       "    </tr>\n",
       "    <tr>\n",
       "      <th>3</th>\n",
       "      <td>EMAIL</td>\n",
       "      <td>string</td>\n",
       "      <td>Email of customer (collected upon initial regi...</td>\n",
       "    </tr>\n",
       "    <tr>\n",
       "      <th>4</th>\n",
       "      <td>FIRST_NAME</td>\n",
       "      <td>string</td>\n",
       "      <td>First name of customer (collected upon initial...</td>\n",
       "    </tr>\n",
       "    <tr>\n",
       "      <th>5</th>\n",
       "      <td>FAMILY_NAME</td>\n",
       "      <td>string</td>\n",
       "      <td>Last name of customer (collected upon initial ...</td>\n",
       "    </tr>\n",
       "    <tr>\n",
       "      <th>6</th>\n",
       "      <td>TOTAL_MEALS_ORDERED</td>\n",
       "      <td>integer</td>\n",
       "      <td>Total count of meals ordered per customer account</td>\n",
       "    </tr>\n",
       "    <tr>\n",
       "      <th>7</th>\n",
       "      <td>UNIQUE_MEALS_PURCH</td>\n",
       "      <td>integer</td>\n",
       "      <td>Count of unique meal sets ordered per customer...</td>\n",
       "    </tr>\n",
       "    <tr>\n",
       "      <th>8</th>\n",
       "      <td>CONTACTS_W_CUSTOMER_SERVICE</td>\n",
       "      <td>integer</td>\n",
       "      <td>Count of times a customer made contact with cu...</td>\n",
       "    </tr>\n",
       "    <tr>\n",
       "      <th>9</th>\n",
       "      <td>PRODUCT_CATEGORIES_VIEWED</td>\n",
       "      <td>integer</td>\n",
       "      <td>Total number of meal categories viewed (online...</td>\n",
       "    </tr>\n",
       "    <tr>\n",
       "      <th>10</th>\n",
       "      <td>AVG_TIME_PER_SITE_VISIT</td>\n",
       "      <td>float</td>\n",
       "      <td>Average platform (web or mobile) visit time pe...</td>\n",
       "    </tr>\n",
       "    <tr>\n",
       "      <th>11</th>\n",
       "      <td>MOBILE_NUMBER</td>\n",
       "      <td>integer</td>\n",
       "      <td>Customer registered with a mobile or landline ...</td>\n",
       "    </tr>\n",
       "    <tr>\n",
       "      <th>12</th>\n",
       "      <td>CANCELLATIONS_BEFORE_NOON</td>\n",
       "      <td>integer</td>\n",
       "      <td>Number of meals canceled before 12 PM as per c...</td>\n",
       "    </tr>\n",
       "    <tr>\n",
       "      <th>13</th>\n",
       "      <td>CANCELLATIONS_AFTER_NOON</td>\n",
       "      <td>integer</td>\n",
       "      <td>Number of meals canceled after 3 PM as per can...</td>\n",
       "    </tr>\n",
       "    <tr>\n",
       "      <th>14</th>\n",
       "      <td>TASTES_AND_PREFERENCES</td>\n",
       "      <td>integer</td>\n",
       "      <td>Customer specified their tastes and preference...</td>\n",
       "    </tr>\n",
       "    <tr>\n",
       "      <th>15</th>\n",
       "      <td>MOBILE_LOGINS</td>\n",
       "      <td>integer</td>\n",
       "      <td>Count of logins on the mobile platform (app)</td>\n",
       "    </tr>\n",
       "    <tr>\n",
       "      <th>16</th>\n",
       "      <td>PC_LOGINS</td>\n",
       "      <td>integer</td>\n",
       "      <td>Count of logins on the web platform (website)</td>\n",
       "    </tr>\n",
       "    <tr>\n",
       "      <th>17</th>\n",
       "      <td>WEEKLY_PLAN</td>\n",
       "      <td>integer</td>\n",
       "      <td>Count of weeks a customer subscribed to the we...</td>\n",
       "    </tr>\n",
       "    <tr>\n",
       "      <th>18</th>\n",
       "      <td>EARLY_DELIVERIES</td>\n",
       "      <td>integer</td>\n",
       "      <td>Count of orders that we delivered BEFORE the a...</td>\n",
       "    </tr>\n",
       "    <tr>\n",
       "      <th>19</th>\n",
       "      <td>LATE_DELIVERIES</td>\n",
       "      <td>integer</td>\n",
       "      <td>Count of orders that we delivered AFTER the al...</td>\n",
       "    </tr>\n",
       "    <tr>\n",
       "      <th>20</th>\n",
       "      <td>PACKAGE_LOCKER</td>\n",
       "      <td>integer</td>\n",
       "      <td>Customer's building has a package locker servi...</td>\n",
       "    </tr>\n",
       "    <tr>\n",
       "      <th>21</th>\n",
       "      <td>REFRIGERATED_LOCKER</td>\n",
       "      <td>integer</td>\n",
       "      <td>Package room has a refrigerated locker</td>\n",
       "    </tr>\n",
       "    <tr>\n",
       "      <th>22</th>\n",
       "      <td>FOLLOWED_RECOMMENDATIONS_PCT</td>\n",
       "      <td>float</td>\n",
       "      <td>Percentage of time a customer followed meal re...</td>\n",
       "    </tr>\n",
       "    <tr>\n",
       "      <th>23</th>\n",
       "      <td>AVG_PREP_VID_TIME</td>\n",
       "      <td>float</td>\n",
       "      <td>Average time in seconds a customer watched  in...</td>\n",
       "    </tr>\n",
       "    <tr>\n",
       "      <th>24</th>\n",
       "      <td>LARGEST_ORDER_SIZE</td>\n",
       "      <td>integer</td>\n",
       "      <td>Largest number of meals a customer has ordered...</td>\n",
       "    </tr>\n",
       "    <tr>\n",
       "      <th>25</th>\n",
       "      <td>MASTER_CLASSES_ATTENDED</td>\n",
       "      <td>integer</td>\n",
       "      <td>Count of times a customer attended master clas...</td>\n",
       "    </tr>\n",
       "    <tr>\n",
       "      <th>26</th>\n",
       "      <td>MEDIAN_MEAL_RATING</td>\n",
       "      <td>integer</td>\n",
       "      <td>Median meal satisfaction rating by customer</td>\n",
       "    </tr>\n",
       "    <tr>\n",
       "      <th>27</th>\n",
       "      <td>AVG_CLICKS_PER_VISIT</td>\n",
       "      <td>float</td>\n",
       "      <td>Average number of clicks per site visit</td>\n",
       "    </tr>\n",
       "    <tr>\n",
       "      <th>28</th>\n",
       "      <td>TOTAL_PHOTOS_VIEWED</td>\n",
       "      <td>integer</td>\n",
       "      <td>Count of photos viewed on web and mobile platf...</td>\n",
       "    </tr>\n",
       "  </tbody>\n",
       "</table>\n",
       "</div>"
      ],
      "text/plain": [
       "                          Column Data Type  \\\n",
       "0                        REVENUE     float   \n",
       "1             CROSS_SELL_SUCCESS   integer   \n",
       "2                           NAME    string   \n",
       "3                          EMAIL    string   \n",
       "4                     FIRST_NAME    string   \n",
       "5                    FAMILY_NAME    string   \n",
       "6            TOTAL_MEALS_ORDERED   integer   \n",
       "7             UNIQUE_MEALS_PURCH   integer   \n",
       "8    CONTACTS_W_CUSTOMER_SERVICE   integer   \n",
       "9      PRODUCT_CATEGORIES_VIEWED   integer   \n",
       "10       AVG_TIME_PER_SITE_VISIT     float   \n",
       "11                 MOBILE_NUMBER   integer   \n",
       "12     CANCELLATIONS_BEFORE_NOON   integer   \n",
       "13      CANCELLATIONS_AFTER_NOON   integer   \n",
       "14        TASTES_AND_PREFERENCES   integer   \n",
       "15                 MOBILE_LOGINS   integer   \n",
       "16                     PC_LOGINS   integer   \n",
       "17                   WEEKLY_PLAN   integer   \n",
       "18              EARLY_DELIVERIES   integer   \n",
       "19               LATE_DELIVERIES   integer   \n",
       "20                PACKAGE_LOCKER   integer   \n",
       "21           REFRIGERATED_LOCKER   integer   \n",
       "22  FOLLOWED_RECOMMENDATIONS_PCT     float   \n",
       "23             AVG_PREP_VID_TIME     float   \n",
       "24            LARGEST_ORDER_SIZE   integer   \n",
       "25       MASTER_CLASSES_ATTENDED   integer   \n",
       "26            MEDIAN_MEAL_RATING   integer   \n",
       "27          AVG_CLICKS_PER_VISIT     float   \n",
       "28           TOTAL_PHOTOS_VIEWED   integer   \n",
       "\n",
       "                                          Description  \n",
       "0   Total revenue generated over the first year of...  \n",
       "1   Success of promoting Halfway There (1 = SUCCES...  \n",
       "2   Full name of customer (collected upon initial ...  \n",
       "3   Email of customer (collected upon initial regi...  \n",
       "4   First name of customer (collected upon initial...  \n",
       "5   Last name of customer (collected upon initial ...  \n",
       "6   Total count of meals ordered per customer account  \n",
       "7   Count of unique meal sets ordered per customer...  \n",
       "8   Count of times a customer made contact with cu...  \n",
       "9   Total number of meal categories viewed (online...  \n",
       "10  Average platform (web or mobile) visit time pe...  \n",
       "11  Customer registered with a mobile or landline ...  \n",
       "12  Number of meals canceled before 12 PM as per c...  \n",
       "13  Number of meals canceled after 3 PM as per can...  \n",
       "14  Customer specified their tastes and preference...  \n",
       "15       Count of logins on the mobile platform (app)  \n",
       "16      Count of logins on the web platform (website)  \n",
       "17  Count of weeks a customer subscribed to the we...  \n",
       "18  Count of orders that we delivered BEFORE the a...  \n",
       "19  Count of orders that we delivered AFTER the al...  \n",
       "20  Customer's building has a package locker servi...  \n",
       "21             Package room has a refrigerated locker  \n",
       "22  Percentage of time a customer followed meal re...  \n",
       "23  Average time in seconds a customer watched  in...  \n",
       "24  Largest number of meals a customer has ordered...  \n",
       "25  Count of times a customer attended master clas...  \n",
       "26        Median meal satisfaction rating by customer  \n",
       "27            Average number of clicks per site visit  \n",
       "28  Count of photos viewed on web and mobile platf...  "
      ]
     },
     "execution_count": 2,
     "metadata": {},
     "output_type": "execute_result"
    }
   ],
   "source": [
    "# Summary of column names and dictionary #\n",
    "# Name and Description\n",
    "apprentice_description = pd.read_excel('Apprentice_Chef_Data_Dictionary.xlsx')\n",
    "apprentice_description"
   ]
  },
  {
   "cell_type": "code",
   "execution_count": 3,
   "metadata": {},
   "outputs": [
    {
     "name": "stdout",
     "output_type": "stream",
     "text": [
      "(1946, 29)\n",
      "Index(['REVENUE', 'CROSS_SELL_SUCCESS', 'NAME', 'EMAIL', 'FIRST_NAME',\n",
      "       'FAMILY_NAME', 'TOTAL_MEALS_ORDERED', 'UNIQUE_MEALS_PURCH',\n",
      "       'CONTACTS_W_CUSTOMER_SERVICE', 'PRODUCT_CATEGORIES_VIEWED',\n",
      "       'AVG_TIME_PER_SITE_VISIT', 'MOBILE_NUMBER', 'CANCELLATIONS_BEFORE_NOON',\n",
      "       'CANCELLATIONS_AFTER_NOON', 'TASTES_AND_PREFERENCES', 'PC_LOGINS',\n",
      "       'MOBILE_LOGINS', 'WEEKLY_PLAN', 'EARLY_DELIVERIES', 'LATE_DELIVERIES',\n",
      "       'PACKAGE_LOCKER', 'REFRIGERATED_LOCKER', 'FOLLOWED_RECOMMENDATIONS_PCT',\n",
      "       'AVG_PREP_VID_TIME', 'LARGEST_ORDER_SIZE', 'MASTER_CLASSES_ATTENDED',\n",
      "       'MEDIAN_MEAL_RATING', 'AVG_CLICKS_PER_VISIT', 'TOTAL_PHOTOS_VIEWED'],\n",
      "      dtype='object')\n"
     ]
    }
   ],
   "source": [
    "print(original_df.shape)\n",
    "print(original_df.columns)"
   ]
  },
  {
   "cell_type": "markdown",
   "metadata": {},
   "source": [
    "The shape of the dataset is **1946 rows and 29 columns** <br>\n",
    "I also wanted to print the name of the columns to have them as a list in case I need it in future steps."
   ]
  },
  {
   "cell_type": "code",
   "execution_count": 4,
   "metadata": {},
   "outputs": [
    {
     "data": {
      "text/html": [
       "<div>\n",
       "<style scoped>\n",
       "    .dataframe tbody tr th:only-of-type {\n",
       "        vertical-align: middle;\n",
       "    }\n",
       "\n",
       "    .dataframe tbody tr th {\n",
       "        vertical-align: top;\n",
       "    }\n",
       "\n",
       "    .dataframe thead th {\n",
       "        text-align: right;\n",
       "    }\n",
       "</style>\n",
       "<table border=\"1\" class=\"dataframe\">\n",
       "  <thead>\n",
       "    <tr style=\"text-align: right;\">\n",
       "      <th></th>\n",
       "      <th>CROSS_SELL_SUCCESS</th>\n",
       "      <th>TOTAL_MEALS_ORDERED</th>\n",
       "      <th>UNIQUE_MEALS_PURCH</th>\n",
       "      <th>CONTACTS_W_CUSTOMER_SERVICE</th>\n",
       "      <th>PRODUCT_CATEGORIES_VIEWED</th>\n",
       "      <th>AVG_TIME_PER_SITE_VISIT</th>\n",
       "      <th>MOBILE_NUMBER</th>\n",
       "      <th>CANCELLATIONS_BEFORE_NOON</th>\n",
       "      <th>CANCELLATIONS_AFTER_NOON</th>\n",
       "      <th>TASTES_AND_PREFERENCES</th>\n",
       "      <th>...</th>\n",
       "      <th>LATE_DELIVERIES</th>\n",
       "      <th>PACKAGE_LOCKER</th>\n",
       "      <th>REFRIGERATED_LOCKER</th>\n",
       "      <th>FOLLOWED_RECOMMENDATIONS_PCT</th>\n",
       "      <th>AVG_PREP_VID_TIME</th>\n",
       "      <th>LARGEST_ORDER_SIZE</th>\n",
       "      <th>MASTER_CLASSES_ATTENDED</th>\n",
       "      <th>MEDIAN_MEAL_RATING</th>\n",
       "      <th>AVG_CLICKS_PER_VISIT</th>\n",
       "      <th>TOTAL_PHOTOS_VIEWED</th>\n",
       "    </tr>\n",
       "  </thead>\n",
       "  <tbody>\n",
       "    <tr>\n",
       "      <th>count</th>\n",
       "      <td>1946.00</td>\n",
       "      <td>1946.00</td>\n",
       "      <td>1946.0</td>\n",
       "      <td>1946.00</td>\n",
       "      <td>1946.00</td>\n",
       "      <td>1946.00</td>\n",
       "      <td>1946.00</td>\n",
       "      <td>1946.00</td>\n",
       "      <td>1946.00</td>\n",
       "      <td>1946.00</td>\n",
       "      <td>...</td>\n",
       "      <td>1946.00</td>\n",
       "      <td>1946.00</td>\n",
       "      <td>1946.00</td>\n",
       "      <td>1946.00</td>\n",
       "      <td>1946.00</td>\n",
       "      <td>1946.00</td>\n",
       "      <td>1946.00</td>\n",
       "      <td>1946.00</td>\n",
       "      <td>1946.00</td>\n",
       "      <td>1946.00</td>\n",
       "    </tr>\n",
       "    <tr>\n",
       "      <th>mean</th>\n",
       "      <td>0.68</td>\n",
       "      <td>74.63</td>\n",
       "      <td>4.9</td>\n",
       "      <td>6.98</td>\n",
       "      <td>5.38</td>\n",
       "      <td>99.60</td>\n",
       "      <td>0.88</td>\n",
       "      <td>1.40</td>\n",
       "      <td>0.17</td>\n",
       "      <td>0.71</td>\n",
       "      <td>...</td>\n",
       "      <td>2.97</td>\n",
       "      <td>0.36</td>\n",
       "      <td>0.11</td>\n",
       "      <td>35.41</td>\n",
       "      <td>150.56</td>\n",
       "      <td>4.44</td>\n",
       "      <td>0.60</td>\n",
       "      <td>2.79</td>\n",
       "      <td>13.51</td>\n",
       "      <td>106.43</td>\n",
       "    </tr>\n",
       "    <tr>\n",
       "      <th>std</th>\n",
       "      <td>0.47</td>\n",
       "      <td>55.31</td>\n",
       "      <td>2.5</td>\n",
       "      <td>2.28</td>\n",
       "      <td>3.04</td>\n",
       "      <td>62.34</td>\n",
       "      <td>0.33</td>\n",
       "      <td>1.55</td>\n",
       "      <td>0.43</td>\n",
       "      <td>0.45</td>\n",
       "      <td>...</td>\n",
       "      <td>2.74</td>\n",
       "      <td>0.48</td>\n",
       "      <td>0.32</td>\n",
       "      <td>26.58</td>\n",
       "      <td>49.45</td>\n",
       "      <td>1.55</td>\n",
       "      <td>0.64</td>\n",
       "      <td>0.76</td>\n",
       "      <td>2.33</td>\n",
       "      <td>181.01</td>\n",
       "    </tr>\n",
       "    <tr>\n",
       "      <th>min</th>\n",
       "      <td>0.00</td>\n",
       "      <td>11.00</td>\n",
       "      <td>1.0</td>\n",
       "      <td>1.00</td>\n",
       "      <td>1.00</td>\n",
       "      <td>10.33</td>\n",
       "      <td>0.00</td>\n",
       "      <td>0.00</td>\n",
       "      <td>0.00</td>\n",
       "      <td>0.00</td>\n",
       "      <td>...</td>\n",
       "      <td>0.00</td>\n",
       "      <td>0.00</td>\n",
       "      <td>0.00</td>\n",
       "      <td>0.00</td>\n",
       "      <td>33.40</td>\n",
       "      <td>0.00</td>\n",
       "      <td>0.00</td>\n",
       "      <td>1.00</td>\n",
       "      <td>5.00</td>\n",
       "      <td>0.00</td>\n",
       "    </tr>\n",
       "    <tr>\n",
       "      <th>25%</th>\n",
       "      <td>0.00</td>\n",
       "      <td>39.00</td>\n",
       "      <td>3.0</td>\n",
       "      <td>5.00</td>\n",
       "      <td>3.00</td>\n",
       "      <td>72.00</td>\n",
       "      <td>1.00</td>\n",
       "      <td>0.00</td>\n",
       "      <td>0.00</td>\n",
       "      <td>0.00</td>\n",
       "      <td>...</td>\n",
       "      <td>1.00</td>\n",
       "      <td>0.00</td>\n",
       "      <td>0.00</td>\n",
       "      <td>10.00</td>\n",
       "      <td>114.40</td>\n",
       "      <td>3.00</td>\n",
       "      <td>0.00</td>\n",
       "      <td>2.00</td>\n",
       "      <td>12.00</td>\n",
       "      <td>0.00</td>\n",
       "    </tr>\n",
       "    <tr>\n",
       "      <th>50%</th>\n",
       "      <td>1.00</td>\n",
       "      <td>60.00</td>\n",
       "      <td>5.0</td>\n",
       "      <td>7.00</td>\n",
       "      <td>5.00</td>\n",
       "      <td>94.16</td>\n",
       "      <td>1.00</td>\n",
       "      <td>1.00</td>\n",
       "      <td>0.00</td>\n",
       "      <td>1.00</td>\n",
       "      <td>...</td>\n",
       "      <td>2.00</td>\n",
       "      <td>0.00</td>\n",
       "      <td>0.00</td>\n",
       "      <td>30.00</td>\n",
       "      <td>145.60</td>\n",
       "      <td>4.00</td>\n",
       "      <td>1.00</td>\n",
       "      <td>3.00</td>\n",
       "      <td>13.00</td>\n",
       "      <td>0.00</td>\n",
       "    </tr>\n",
       "    <tr>\n",
       "      <th>75%</th>\n",
       "      <td>1.00</td>\n",
       "      <td>95.00</td>\n",
       "      <td>7.0</td>\n",
       "      <td>8.00</td>\n",
       "      <td>8.00</td>\n",
       "      <td>117.29</td>\n",
       "      <td>1.00</td>\n",
       "      <td>2.00</td>\n",
       "      <td>0.00</td>\n",
       "      <td>1.00</td>\n",
       "      <td>...</td>\n",
       "      <td>4.00</td>\n",
       "      <td>1.00</td>\n",
       "      <td>0.00</td>\n",
       "      <td>60.00</td>\n",
       "      <td>173.78</td>\n",
       "      <td>5.00</td>\n",
       "      <td>1.00</td>\n",
       "      <td>3.00</td>\n",
       "      <td>15.00</td>\n",
       "      <td>174.00</td>\n",
       "    </tr>\n",
       "    <tr>\n",
       "      <th>max</th>\n",
       "      <td>1.00</td>\n",
       "      <td>493.00</td>\n",
       "      <td>19.0</td>\n",
       "      <td>18.00</td>\n",
       "      <td>10.00</td>\n",
       "      <td>1645.60</td>\n",
       "      <td>1.00</td>\n",
       "      <td>13.00</td>\n",
       "      <td>3.00</td>\n",
       "      <td>1.00</td>\n",
       "      <td>...</td>\n",
       "      <td>19.00</td>\n",
       "      <td>1.00</td>\n",
       "      <td>1.00</td>\n",
       "      <td>90.00</td>\n",
       "      <td>564.20</td>\n",
       "      <td>11.00</td>\n",
       "      <td>3.00</td>\n",
       "      <td>5.00</td>\n",
       "      <td>19.00</td>\n",
       "      <td>1600.00</td>\n",
       "    </tr>\n",
       "  </tbody>\n",
       "</table>\n",
       "<p>8 rows × 24 columns</p>\n",
       "</div>"
      ],
      "text/plain": [
       "       CROSS_SELL_SUCCESS  TOTAL_MEALS_ORDERED  UNIQUE_MEALS_PURCH  \\\n",
       "count             1946.00              1946.00              1946.0   \n",
       "mean                 0.68                74.63                 4.9   \n",
       "std                  0.47                55.31                 2.5   \n",
       "min                  0.00                11.00                 1.0   \n",
       "25%                  0.00                39.00                 3.0   \n",
       "50%                  1.00                60.00                 5.0   \n",
       "75%                  1.00                95.00                 7.0   \n",
       "max                  1.00               493.00                19.0   \n",
       "\n",
       "       CONTACTS_W_CUSTOMER_SERVICE  PRODUCT_CATEGORIES_VIEWED  \\\n",
       "count                      1946.00                    1946.00   \n",
       "mean                          6.98                       5.38   \n",
       "std                           2.28                       3.04   \n",
       "min                           1.00                       1.00   \n",
       "25%                           5.00                       3.00   \n",
       "50%                           7.00                       5.00   \n",
       "75%                           8.00                       8.00   \n",
       "max                          18.00                      10.00   \n",
       "\n",
       "       AVG_TIME_PER_SITE_VISIT  MOBILE_NUMBER  CANCELLATIONS_BEFORE_NOON  \\\n",
       "count                  1946.00        1946.00                    1946.00   \n",
       "mean                     99.60           0.88                       1.40   \n",
       "std                      62.34           0.33                       1.55   \n",
       "min                      10.33           0.00                       0.00   \n",
       "25%                      72.00           1.00                       0.00   \n",
       "50%                      94.16           1.00                       1.00   \n",
       "75%                     117.29           1.00                       2.00   \n",
       "max                    1645.60           1.00                      13.00   \n",
       "\n",
       "       CANCELLATIONS_AFTER_NOON  TASTES_AND_PREFERENCES  ...  LATE_DELIVERIES  \\\n",
       "count                   1946.00                 1946.00  ...          1946.00   \n",
       "mean                       0.17                    0.71  ...             2.97   \n",
       "std                        0.43                    0.45  ...             2.74   \n",
       "min                        0.00                    0.00  ...             0.00   \n",
       "25%                        0.00                    0.00  ...             1.00   \n",
       "50%                        0.00                    1.00  ...             2.00   \n",
       "75%                        0.00                    1.00  ...             4.00   \n",
       "max                        3.00                    1.00  ...            19.00   \n",
       "\n",
       "       PACKAGE_LOCKER  REFRIGERATED_LOCKER  FOLLOWED_RECOMMENDATIONS_PCT  \\\n",
       "count         1946.00              1946.00                       1946.00   \n",
       "mean             0.36                 0.11                         35.41   \n",
       "std              0.48                 0.32                         26.58   \n",
       "min              0.00                 0.00                          0.00   \n",
       "25%              0.00                 0.00                         10.00   \n",
       "50%              0.00                 0.00                         30.00   \n",
       "75%              1.00                 0.00                         60.00   \n",
       "max              1.00                 1.00                         90.00   \n",
       "\n",
       "       AVG_PREP_VID_TIME  LARGEST_ORDER_SIZE  MASTER_CLASSES_ATTENDED  \\\n",
       "count            1946.00             1946.00                  1946.00   \n",
       "mean              150.56                4.44                     0.60   \n",
       "std                49.45                1.55                     0.64   \n",
       "min                33.40                0.00                     0.00   \n",
       "25%               114.40                3.00                     0.00   \n",
       "50%               145.60                4.00                     1.00   \n",
       "75%               173.78                5.00                     1.00   \n",
       "max               564.20               11.00                     3.00   \n",
       "\n",
       "       MEDIAN_MEAL_RATING  AVG_CLICKS_PER_VISIT  TOTAL_PHOTOS_VIEWED  \n",
       "count             1946.00               1946.00              1946.00  \n",
       "mean                 2.79                 13.51               106.43  \n",
       "std                  0.76                  2.33               181.01  \n",
       "min                  1.00                  5.00                 0.00  \n",
       "25%                  2.00                 12.00                 0.00  \n",
       "50%                  3.00                 13.00                 0.00  \n",
       "75%                  3.00                 15.00               174.00  \n",
       "max                  5.00                 19.00              1600.00  \n",
       "\n",
       "[8 rows x 24 columns]"
      ]
     },
     "execution_count": 4,
     "metadata": {},
     "output_type": "execute_result"
    }
   ],
   "source": [
    "# descriptive statistics\n",
    "original_df.iloc[:, 1: ].describe().round(2)"
   ]
  },
  {
   "cell_type": "markdown",
   "metadata": {},
   "source": [
    "In the descriptive statistics table I excluded the variable revenue from the table because is our target variable. \n",
    "The variables that only takes values from 0 to 1 are the **binomial variables**\n",
    "Also, I can spot variables with not normal distribution. Looking the max value if the value is far from the 75 percentile and the difference between the 50 and 75 percentile is not huge, it may indicate that the distribution is not normal.\n",
    "\n",
    "The variables with not normal distributions are:\n",
    "- TOTAL_MEALS_ORDERED\n",
    "- UNIQUE_MEALS_PUNCH \n",
    "- CONTACTS_W_CUSTOMER_SERVICE\n",
    "- AVG_TIME_PER_SITE_VISIT\n",
    "- CANCELLATIONS_BEFORE_NOON \n",
    "- WEEKLY_PLAN \n",
    "- EARLY_DELIVERIES \n",
    "- LATE_DELIVERIES \n",
    "- AVG_PREP_VID_TIME \n",
    "- LARGEST_ORDER_SIZE \n",
    "- TOTAL_PHOTOS_VIEWED\n",
    "\n",
    "***"
   ]
  },
  {
   "cell_type": "markdown",
   "metadata": {},
   "source": [
    "## Missing Values "
   ]
  },
  {
   "cell_type": "markdown",
   "metadata": {},
   "source": [
    "Here, I am going to review if there are any missing values in the dataset before deep diving in the outliers section."
   ]
  },
  {
   "cell_type": "code",
   "execution_count": 5,
   "metadata": {},
   "outputs": [
    {
     "name": "stdout",
     "output_type": "stream",
     "text": [
      "<class 'pandas.core.frame.DataFrame'>\n",
      "RangeIndex: 1946 entries, 0 to 1945\n",
      "Data columns (total 29 columns):\n",
      " #   Column                        Non-Null Count  Dtype  \n",
      "---  ------                        --------------  -----  \n",
      " 0   REVENUE                       1946 non-null   float64\n",
      " 1   CROSS_SELL_SUCCESS            1946 non-null   int64  \n",
      " 2   NAME                          1946 non-null   object \n",
      " 3   EMAIL                         1946 non-null   object \n",
      " 4   FIRST_NAME                    1946 non-null   object \n",
      " 5   FAMILY_NAME                   1899 non-null   object \n",
      " 6   TOTAL_MEALS_ORDERED           1946 non-null   int64  \n",
      " 7   UNIQUE_MEALS_PURCH            1946 non-null   int64  \n",
      " 8   CONTACTS_W_CUSTOMER_SERVICE   1946 non-null   int64  \n",
      " 9   PRODUCT_CATEGORIES_VIEWED     1946 non-null   int64  \n",
      " 10  AVG_TIME_PER_SITE_VISIT       1946 non-null   float64\n",
      " 11  MOBILE_NUMBER                 1946 non-null   int64  \n",
      " 12  CANCELLATIONS_BEFORE_NOON     1946 non-null   int64  \n",
      " 13  CANCELLATIONS_AFTER_NOON      1946 non-null   int64  \n",
      " 14  TASTES_AND_PREFERENCES        1946 non-null   int64  \n",
      " 15  PC_LOGINS                     1946 non-null   int64  \n",
      " 16  MOBILE_LOGINS                 1946 non-null   int64  \n",
      " 17  WEEKLY_PLAN                   1946 non-null   int64  \n",
      " 18  EARLY_DELIVERIES              1946 non-null   int64  \n",
      " 19  LATE_DELIVERIES               1946 non-null   int64  \n",
      " 20  PACKAGE_LOCKER                1946 non-null   int64  \n",
      " 21  REFRIGERATED_LOCKER           1946 non-null   int64  \n",
      " 22  FOLLOWED_RECOMMENDATIONS_PCT  1946 non-null   int64  \n",
      " 23  AVG_PREP_VID_TIME             1946 non-null   float64\n",
      " 24  LARGEST_ORDER_SIZE            1946 non-null   int64  \n",
      " 25  MASTER_CLASSES_ATTENDED       1946 non-null   int64  \n",
      " 26  MEDIAN_MEAL_RATING            1946 non-null   int64  \n",
      " 27  AVG_CLICKS_PER_VISIT          1946 non-null   int64  \n",
      " 28  TOTAL_PHOTOS_VIEWED           1946 non-null   int64  \n",
      "dtypes: float64(3), int64(22), object(4)\n",
      "memory usage: 441.0+ KB\n",
      "None\n",
      "\n",
      "Number of Null Data: \n",
      "REVENUE                          0\n",
      "CROSS_SELL_SUCCESS               0\n",
      "NAME                             0\n",
      "EMAIL                            0\n",
      "FIRST_NAME                       0\n",
      "FAMILY_NAME                     47\n",
      "TOTAL_MEALS_ORDERED              0\n",
      "UNIQUE_MEALS_PURCH               0\n",
      "CONTACTS_W_CUSTOMER_SERVICE      0\n",
      "PRODUCT_CATEGORIES_VIEWED        0\n",
      "AVG_TIME_PER_SITE_VISIT          0\n",
      "MOBILE_NUMBER                    0\n",
      "CANCELLATIONS_BEFORE_NOON        0\n",
      "CANCELLATIONS_AFTER_NOON         0\n",
      "TASTES_AND_PREFERENCES           0\n",
      "PC_LOGINS                        0\n",
      "MOBILE_LOGINS                    0\n",
      "WEEKLY_PLAN                      0\n",
      "EARLY_DELIVERIES                 0\n",
      "LATE_DELIVERIES                  0\n",
      "PACKAGE_LOCKER                   0\n",
      "REFRIGERATED_LOCKER              0\n",
      "FOLLOWED_RECOMMENDATIONS_PCT     0\n",
      "AVG_PREP_VID_TIME                0\n",
      "LARGEST_ORDER_SIZE               0\n",
      "MASTER_CLASSES_ATTENDED          0\n",
      "MEDIAN_MEAL_RATING               0\n",
      "AVG_CLICKS_PER_VISIT             0\n",
      "TOTAL_PHOTOS_VIEWED              0\n",
      "dtype: int64\n"
     ]
    }
   ],
   "source": [
    "# Print Info to check data type\n",
    "print(original_df.info())\n",
    "\n",
    "# Print number of null value\n",
    "print(\"\\nNumber of Null Data: \")\n",
    "print(original_df.isnull().sum())"
   ]
  },
  {
   "cell_type": "markdown",
   "metadata": {},
   "source": [
    "As we can see in the list, I can identify **47 missing values** in the variable FAMILY_NAME. \n",
    "Next step will be to replace those missing values with the word 'Unknown'\n",
    "\n",
    "Below, I am running a for loop in order to create a new column to accumulate the missing values from the column FAMILY_NAME in a new variable."
   ]
  },
  {
   "cell_type": "code",
   "execution_count": 6,
   "metadata": {},
   "outputs": [
    {
     "data": {
      "text/html": [
       "<div>\n",
       "<style scoped>\n",
       "    .dataframe tbody tr th:only-of-type {\n",
       "        vertical-align: middle;\n",
       "    }\n",
       "\n",
       "    .dataframe tbody tr th {\n",
       "        vertical-align: top;\n",
       "    }\n",
       "\n",
       "    .dataframe thead th {\n",
       "        text-align: right;\n",
       "    }\n",
       "</style>\n",
       "<table border=\"1\" class=\"dataframe\">\n",
       "  <thead>\n",
       "    <tr style=\"text-align: right;\">\n",
       "      <th></th>\n",
       "      <th>REVENUE</th>\n",
       "      <th>CROSS_SELL_SUCCESS</th>\n",
       "      <th>NAME</th>\n",
       "      <th>EMAIL</th>\n",
       "      <th>FIRST_NAME</th>\n",
       "      <th>FAMILY_NAME</th>\n",
       "      <th>TOTAL_MEALS_ORDERED</th>\n",
       "      <th>UNIQUE_MEALS_PURCH</th>\n",
       "      <th>CONTACTS_W_CUSTOMER_SERVICE</th>\n",
       "      <th>PRODUCT_CATEGORIES_VIEWED</th>\n",
       "      <th>...</th>\n",
       "      <th>PACKAGE_LOCKER</th>\n",
       "      <th>REFRIGERATED_LOCKER</th>\n",
       "      <th>FOLLOWED_RECOMMENDATIONS_PCT</th>\n",
       "      <th>AVG_PREP_VID_TIME</th>\n",
       "      <th>LARGEST_ORDER_SIZE</th>\n",
       "      <th>MASTER_CLASSES_ATTENDED</th>\n",
       "      <th>MEDIAN_MEAL_RATING</th>\n",
       "      <th>AVG_CLICKS_PER_VISIT</th>\n",
       "      <th>TOTAL_PHOTOS_VIEWED</th>\n",
       "      <th>m_FAMILY_NAME</th>\n",
       "    </tr>\n",
       "  </thead>\n",
       "  <tbody>\n",
       "    <tr>\n",
       "      <th>0</th>\n",
       "      <td>1880.0</td>\n",
       "      <td>1</td>\n",
       "      <td>Addam Osgrey</td>\n",
       "      <td>addam.osgrey@passport.com</td>\n",
       "      <td>Addam</td>\n",
       "      <td>Osgrey</td>\n",
       "      <td>118</td>\n",
       "      <td>4</td>\n",
       "      <td>7</td>\n",
       "      <td>5</td>\n",
       "      <td>...</td>\n",
       "      <td>1</td>\n",
       "      <td>0</td>\n",
       "      <td>90</td>\n",
       "      <td>165.8</td>\n",
       "      <td>6</td>\n",
       "      <td>1</td>\n",
       "      <td>3</td>\n",
       "      <td>11</td>\n",
       "      <td>0</td>\n",
       "      <td>0</td>\n",
       "    </tr>\n",
       "    <tr>\n",
       "      <th>1</th>\n",
       "      <td>1495.0</td>\n",
       "      <td>1</td>\n",
       "      <td>Aegon Blackfyre</td>\n",
       "      <td>aegon.blackfyre@jnj.com</td>\n",
       "      <td>Aegon</td>\n",
       "      <td>Blackfyre</td>\n",
       "      <td>44</td>\n",
       "      <td>3</td>\n",
       "      <td>6</td>\n",
       "      <td>3</td>\n",
       "      <td>...</td>\n",
       "      <td>1</td>\n",
       "      <td>0</td>\n",
       "      <td>90</td>\n",
       "      <td>150.5</td>\n",
       "      <td>4</td>\n",
       "      <td>1</td>\n",
       "      <td>3</td>\n",
       "      <td>13</td>\n",
       "      <td>90</td>\n",
       "      <td>0</td>\n",
       "    </tr>\n",
       "    <tr>\n",
       "      <th>2</th>\n",
       "      <td>2572.5</td>\n",
       "      <td>1</td>\n",
       "      <td>Aegon Frey (son of Aenys)</td>\n",
       "      <td>aegon.frey.(son.of.aenys)@gmail.com</td>\n",
       "      <td>Aegon</td>\n",
       "      <td>Frey</td>\n",
       "      <td>38</td>\n",
       "      <td>1</td>\n",
       "      <td>5</td>\n",
       "      <td>3</td>\n",
       "      <td>...</td>\n",
       "      <td>0</td>\n",
       "      <td>0</td>\n",
       "      <td>80</td>\n",
       "      <td>99.6</td>\n",
       "      <td>3</td>\n",
       "      <td>0</td>\n",
       "      <td>3</td>\n",
       "      <td>12</td>\n",
       "      <td>0</td>\n",
       "      <td>0</td>\n",
       "    </tr>\n",
       "    <tr>\n",
       "      <th>3</th>\n",
       "      <td>1647.0</td>\n",
       "      <td>1</td>\n",
       "      <td>Aegon Targaryen (son of Rhaegar)</td>\n",
       "      <td>aegon.targaryen.(son.of.rhaegar)@ibm.com</td>\n",
       "      <td>Aegon</td>\n",
       "      <td>Targaryen</td>\n",
       "      <td>76</td>\n",
       "      <td>3</td>\n",
       "      <td>8</td>\n",
       "      <td>10</td>\n",
       "      <td>...</td>\n",
       "      <td>0</td>\n",
       "      <td>0</td>\n",
       "      <td>90</td>\n",
       "      <td>125.0</td>\n",
       "      <td>3</td>\n",
       "      <td>0</td>\n",
       "      <td>3</td>\n",
       "      <td>13</td>\n",
       "      <td>0</td>\n",
       "      <td>0</td>\n",
       "    </tr>\n",
       "    <tr>\n",
       "      <th>4</th>\n",
       "      <td>1923.0</td>\n",
       "      <td>1</td>\n",
       "      <td>Aegon V Targaryen</td>\n",
       "      <td>aegon.v.targaryen@goldmansacs.com</td>\n",
       "      <td>Aegon</td>\n",
       "      <td>V Targaryen</td>\n",
       "      <td>65</td>\n",
       "      <td>3</td>\n",
       "      <td>6</td>\n",
       "      <td>9</td>\n",
       "      <td>...</td>\n",
       "      <td>1</td>\n",
       "      <td>0</td>\n",
       "      <td>90</td>\n",
       "      <td>135.3</td>\n",
       "      <td>3</td>\n",
       "      <td>1</td>\n",
       "      <td>3</td>\n",
       "      <td>13</td>\n",
       "      <td>253</td>\n",
       "      <td>0</td>\n",
       "    </tr>\n",
       "  </tbody>\n",
       "</table>\n",
       "<p>5 rows × 30 columns</p>\n",
       "</div>"
      ],
      "text/plain": [
       "   REVENUE  CROSS_SELL_SUCCESS                              NAME  \\\n",
       "0   1880.0                   1                      Addam Osgrey   \n",
       "1   1495.0                   1                   Aegon Blackfyre   \n",
       "2   2572.5                   1         Aegon Frey (son of Aenys)   \n",
       "3   1647.0                   1  Aegon Targaryen (son of Rhaegar)   \n",
       "4   1923.0                   1                 Aegon V Targaryen   \n",
       "\n",
       "                                      EMAIL FIRST_NAME  FAMILY_NAME  \\\n",
       "0                 addam.osgrey@passport.com      Addam       Osgrey   \n",
       "1                   aegon.blackfyre@jnj.com      Aegon    Blackfyre   \n",
       "2       aegon.frey.(son.of.aenys)@gmail.com      Aegon        Frey    \n",
       "3  aegon.targaryen.(son.of.rhaegar)@ibm.com      Aegon   Targaryen    \n",
       "4         aegon.v.targaryen@goldmansacs.com      Aegon  V Targaryen   \n",
       "\n",
       "   TOTAL_MEALS_ORDERED  UNIQUE_MEALS_PURCH  CONTACTS_W_CUSTOMER_SERVICE  \\\n",
       "0                  118                   4                            7   \n",
       "1                   44                   3                            6   \n",
       "2                   38                   1                            5   \n",
       "3                   76                   3                            8   \n",
       "4                   65                   3                            6   \n",
       "\n",
       "   PRODUCT_CATEGORIES_VIEWED  ...  PACKAGE_LOCKER  REFRIGERATED_LOCKER  \\\n",
       "0                          5  ...               1                    0   \n",
       "1                          3  ...               1                    0   \n",
       "2                          3  ...               0                    0   \n",
       "3                         10  ...               0                    0   \n",
       "4                          9  ...               1                    0   \n",
       "\n",
       "   FOLLOWED_RECOMMENDATIONS_PCT  AVG_PREP_VID_TIME  LARGEST_ORDER_SIZE  \\\n",
       "0                            90              165.8                   6   \n",
       "1                            90              150.5                   4   \n",
       "2                            80               99.6                   3   \n",
       "3                            90              125.0                   3   \n",
       "4                            90              135.3                   3   \n",
       "\n",
       "   MASTER_CLASSES_ATTENDED  MEDIAN_MEAL_RATING  AVG_CLICKS_PER_VISIT  \\\n",
       "0                        1                   3                    11   \n",
       "1                        1                   3                    13   \n",
       "2                        0                   3                    12   \n",
       "3                        0                   3                    13   \n",
       "4                        1                   3                    13   \n",
       "\n",
       "   TOTAL_PHOTOS_VIEWED  m_FAMILY_NAME  \n",
       "0                    0              0  \n",
       "1                   90              0  \n",
       "2                    0              0  \n",
       "3                    0              0  \n",
       "4                  253              0  \n",
       "\n",
       "[5 rows x 30 columns]"
      ]
     },
     "execution_count": 6,
     "metadata": {},
     "output_type": "execute_result"
    }
   ],
   "source": [
    "# Missing values new column\n",
    "for col in original_df:\n",
    "\n",
    "    # creating columns with 1s if missing and 0 if not\n",
    "    if original_df[col].isnull().astype(int).sum() > 0:\n",
    "        original_df['m_'+col] = original_df[col].isnull().astype(int)\n",
    "\n",
    "\n",
    "# 5 first row of the data frame with the missing values column\n",
    "original_df.head(n = 5)"
   ]
  },
  {
   "cell_type": "markdown",
   "metadata": {},
   "source": [
    "As mentioned before, here I am replacing the missing values with the world **'Unknown'**"
   ]
  },
  {
   "cell_type": "code",
   "execution_count": 7,
   "metadata": {},
   "outputs": [],
   "source": [
    "#Fill the missing values from column Family Name\n",
    "fill = 'Unknown'\n",
    "\n",
    "# imputing 'Mas Vnr Area'\n",
    "original_df['FAMILY_NAME'] = original_df['FAMILY_NAME'].fillna(fill)"
   ]
  },
  {
   "cell_type": "code",
   "execution_count": 8,
   "metadata": {},
   "outputs": [
    {
     "name": "stdout",
     "output_type": "stream",
     "text": [
      "\n",
      "Number of Null Data: \n",
      "REVENUE                         0\n",
      "CROSS_SELL_SUCCESS              0\n",
      "NAME                            0\n",
      "EMAIL                           0\n",
      "FIRST_NAME                      0\n",
      "FAMILY_NAME                     0\n",
      "TOTAL_MEALS_ORDERED             0\n",
      "UNIQUE_MEALS_PURCH              0\n",
      "CONTACTS_W_CUSTOMER_SERVICE     0\n",
      "PRODUCT_CATEGORIES_VIEWED       0\n",
      "AVG_TIME_PER_SITE_VISIT         0\n",
      "MOBILE_NUMBER                   0\n",
      "CANCELLATIONS_BEFORE_NOON       0\n",
      "CANCELLATIONS_AFTER_NOON        0\n",
      "TASTES_AND_PREFERENCES          0\n",
      "PC_LOGINS                       0\n",
      "MOBILE_LOGINS                   0\n",
      "WEEKLY_PLAN                     0\n",
      "EARLY_DELIVERIES                0\n",
      "LATE_DELIVERIES                 0\n",
      "PACKAGE_LOCKER                  0\n",
      "REFRIGERATED_LOCKER             0\n",
      "FOLLOWED_RECOMMENDATIONS_PCT    0\n",
      "AVG_PREP_VID_TIME               0\n",
      "LARGEST_ORDER_SIZE              0\n",
      "MASTER_CLASSES_ATTENDED         0\n",
      "MEDIAN_MEAL_RATING              0\n",
      "AVG_CLICKS_PER_VISIT            0\n",
      "TOTAL_PHOTOS_VIEWED             0\n",
      "m_FAMILY_NAME                   0\n",
      "dtype: int64\n"
     ]
    }
   ],
   "source": [
    "#Double-Check if there are any other missing values:\n",
    "# Print number of null value\n",
    "print(\"\\nNumber of Null Data: \")\n",
    "print(original_df.isnull().sum())"
   ]
  },
  {
   "cell_type": "markdown",
   "metadata": {},
   "source": [
    "To sum up, the data frame has a total of **1946 observations and 29 features (variables)**. \n",
    "\n",
    "We can identify variables that are continuous, discrete, categorical or binomial.  \n",
    "\n",
    "The column FAMILY_NAME presented **47 missing values** which have been replaced with the word **'Unknown'**.\n",
    "\n",
    "***"
   ]
  },
  {
   "cell_type": "markdown",
   "metadata": {},
   "source": [
    "# Flag Outliers and trends"
   ]
  },
  {
   "cell_type": "markdown",
   "metadata": {},
   "source": [
    "I will not use **Gender Guesser** because the names from our data frame are not common. To use Gender Guesser could lead to bad predictions. Nevertheless, it would have been useful to explore the gender distribution if names were more common.\n",
    "\n",
    "In the next section, I am plotting all the variables excluding the categorical variables, revenue and m_family_name in order to see the distribution of each variable and the presence of any outliers.  "
   ]
  },
  {
   "cell_type": "code",
   "execution_count": 9,
   "metadata": {
    "scrolled": true
   },
   "outputs": [
    {
     "name": "stderr",
     "output_type": "stream",
     "text": [
      "/Users/gcanela94/anaconda3/lib/python3.7/site-packages/ipykernel_launcher.py:17: RuntimeWarning: More than 20 figures have been opened. Figures created through the pyplot interface (`matplotlib.pyplot.figure`) are retained until explicitly closed and may consume too much memory. (To control this warning, see the rcParam `figure.max_open_warning`).\n"
     ]
    },
    {
     "data": {
      "image/png": "[encoded data removed]",
      "text/plain": [
       "<Figure size 720x360 with 1 Axes>"
      ]
     },
     "metadata": {
      "needs_background": "light"
     },
     "output_type": "display_data"
    },
    {
     "data": {
      "image/png": "[encoded data removed]",
      "text/plain": [
       "<Figure size 720x360 with 1 Axes>"
      ]
     },
     "metadata": {
      "needs_background": "light"
     },
     "output_type": "display_data"
    },
    {
     "data": {
      "image/png": "[encoded data removed]",
      "text/plain": [
       "<Figure size 720x360 with 1 Axes>"
      ]
     },
     "metadata": {
      "needs_background": "light"
     },
     "output_type": "display_data"
    },
    {
     "data": {
      "image/png": "[encoded data removed]",
      "text/plain": [
       "<Figure size 720x360 with 1 Axes>"
      ]
     },
     "metadata": {
      "needs_background": "light"
     },
     "output_type": "display_data"
    },
    {
     "data": {
      "image/png": "[encoded data removed]",
      "text/plain": [
       "<Figure size 720x360 with 1 Axes>"
      ]
     },
     "metadata": {
      "needs_background": "light"
     },
     "output_type": "display_data"
    },
    {
     "data": {
      "image/png": "[encoded data removed]",
      "text/plain": [
       "<Figure size 720x360 with 1 Axes>"
      ]
     },
     "metadata": {
      "needs_background": "light"
     },
     "output_type": "display_data"
    },
    {
     "data": {
      "image/png": "[encoded data removed]",
      "text/plain": [
       "<Figure size 720x360 with 1 Axes>"
      ]
     },
     "metadata": {
      "needs_background": "light"
     },
     "output_type": "display_data"
    },
    {
     "data": {
      "image/png": "[encoded data removed]",
      "text/plain": [
       "<Figure size 720x360 with 1 Axes>"
      ]
     },
     "metadata": {
      "needs_background": "light"
     },
     "output_type": "display_data"
    },
    {
     "data": {
      "image/png": "[encoded data removed]",
      "text/plain": [
       "<Figure size 720x360 with 1 Axes>"
      ]
     },
     "metadata": {
      "needs_background": "light"
     },
     "output_type": "display_data"
    },
    {
     "data": {
      "image/png": "[encoded data removed]",
      "text/plain": [
       "<Figure size 720x360 with 1 Axes>"
      ]
     },
     "metadata": {
      "needs_background": "light"
     },
     "output_type": "display_data"
    },
    {
     "data": {
      "image/png": "[encoded data removed]",
      "text/plain": [
       "<Figure size 720x360 with 1 Axes>"
      ]
     },
     "metadata": {
      "needs_background": "light"
     },
     "output_type": "display_data"
    },
    {
     "data": {
      "image/png": "[encoded data removed]",
      "text/plain": [
       "<Figure size 720x360 with 1 Axes>"
      ]
     },
     "metadata": {
      "needs_background": "light"
     },
     "output_type": "display_data"
    },
    {
     "data": {
      "image/png": "[encoded data removed]",
      "text/plain": [
       "<Figure size 720x360 with 1 Axes>"
      ]
     },
     "metadata": {
      "needs_background": "light"
     },
     "output_type": "display_data"
    },
    {
     "data": {
      "image/png": "[encoded data removed]",
      "text/plain": [
       "<Figure size 720x360 with 1 Axes>"
      ]
     },
     "metadata": {
      "needs_background": "light"
     },
     "output_type": "display_data"
    },
    {
     "data": {
      "image/png": "[encoded data removed]",
      "text/plain": [
       "<Figure size 720x360 with 1 Axes>"
      ]
     },
     "metadata": {
      "needs_background": "light"
     },
     "output_type": "display_data"
    },
    {
     "data": {
      "image/png": "[encoded data removed]",
      "text/plain": [
       "<Figure size 720x360 with 1 Axes>"
      ]
     },
     "metadata": {
      "needs_background": "light"
     },
     "output_type": "display_data"
    },
    {
     "data": {
      "image/png": "[encoded data removed]",
      "text/plain": [
       "<Figure size 720x360 with 1 Axes>"
      ]
     },
     "metadata": {
      "needs_background": "light"
     },
     "output_type": "display_data"
    },
    {
     "data": {
      "image/png": "[encoded data removed]",
      "text/plain": [
       "<Figure size 720x360 with 1 Axes>"
      ]
     },
     "metadata": {
      "needs_background": "light"
     },
     "output_type": "display_data"
    },
    {
     "data": {
      "image/png": "[encoded data removed]",
      "text/plain": [
       "<Figure size 720x360 with 1 Axes>"
      ]
     },
     "metadata": {
      "needs_background": "light"
     },
     "output_type": "display_data"
    },
    {
     "data": {
      "image/png": "[encoded data removed]",
      "text/plain": [
       "<Figure size 720x360 with 1 Axes>"
      ]
     },
     "metadata": {
      "needs_background": "light"
     },
     "output_type": "display_data"
    },
    {
     "data": {
      "image/png": "[encoded data removed]",
      "text/plain": [
       "<Figure size 720x360 with 1 Axes>"
      ]
     },
     "metadata": {
      "needs_background": "light"
     },
     "output_type": "display_data"
    },
    {
     "data": {
      "image/png": "[encoded data removed]",
      "text/plain": [
       "<Figure size 720x360 with 1 Axes>"
      ]
     },
     "metadata": {
      "needs_background": "light"
     },
     "output_type": "display_data"
    },
    {
     "data": {
      "image/png": "[encoded data removed]",
      "text/plain": [
       "<Figure size 720x360 with 1 Axes>"
      ]
     },
     "metadata": {
      "needs_background": "light"
     },
     "output_type": "display_data"
    },
    {
     "data": {
      "image/png": "[encoded data removed]",
      "text/plain": [
       "<Figure size 720x360 with 1 Axes>"
      ]
     },
     "metadata": {
      "needs_background": "light"
     },
     "output_type": "display_data"
    }
   ],
   "source": [
    "#Create a copy of original_df\n",
    "df = original_df.copy()\n",
    "\n",
    "# Dropping REVENUE\n",
    "x_out = df.drop(['REVENUE', 'm_FAMILY_NAME'], axis = 1)\n",
    "\n",
    "#For loop in order to plot the distribution of each variable\n",
    "colors = ['g', 'r', 'b', 'y', 'orange']\n",
    "colors = colors * len(x_out.columns)\n",
    "sub_p = [1,2,3,4]\n",
    "sup_p = sub_p * len(x_out.columns)\n",
    "\n",
    "for i, col in enumerate(x_out.columns):\n",
    "    if type(x_out[col][0]) == str:\n",
    "        continue\n",
    "    else:\n",
    "        fig, ax = plt.subplots(figsize = (10, 5))\n",
    "        sns.distplot(x_out[col],\n",
    "                    kde   = False,\n",
    "                    bins  = 'sqrt',\n",
    "                    color = colors[i])\n",
    "# making customized ticks and relative to the range of each feature\n",
    "    ax.xaxis.set_ticks(np.arange( \n",
    "        min(df[x_out.columns][col]),\n",
    "        max(df[x_out.columns][col]),\n",
    "        max(df[x_out.columns][col])/35))\n",
    "#using the FormatStrFormatter function from matplotlib\n",
    "    ax.xaxis.set_major_formatter(FormatStrFormatter('%.f'))\n",
    "#rotating the ticks axis to make it easy to plot several numbers simultaneously\n",
    "    plt.xticks(rotation=90)\n",
    "    \n",
    "plt.show()"
   ]
  },
  {
   "cell_type": "markdown",
   "metadata": {},
   "source": [
    "The plot of the distribution of each variable helped me a lot to determine the threshold for the outliers and trends. I identified many threshold but didn't help to improve the revenue prediction of my model so I didn't use them at the final ML model. Also, I used a code to spread the numbers on the y_axis and have a clear view of the outliers. \n",
    "Link: https://stackoverflow.com/questions/11264521/date-ticks-and-rotation-in-matplotlib\n",
    "\n",
    "Below the unique indicator that helped the Gradient Buster model to improve: "
   ]
  },
  {
   "cell_type": "code",
   "execution_count": 10,
   "metadata": {},
   "outputs": [],
   "source": [
    "#########################\n",
    "# Threshold for outliers#\n",
    "#########################\n",
    "\n",
    "#Meal 4\n",
    "med_meal_rat_4 = 4\n",
    "original_df['med_meal_rat_4'] = 0\n",
    "condition = original_df.loc[0:,'med_meal_rat_4'][med_meal_rat_4 == original_df['MEDIAN_MEAL_RATING']]\n",
    "original_df['med_meal_rat_4'].replace(to_replace = condition,\n",
    "                                value      = 1,\n",
    "                                inplace    = True)\n"
   ]
  },
  {
   "cell_type": "markdown",
   "metadata": {},
   "source": [
    "***\n",
    "\n",
    "The next section shows how I tried to add more outliers but those were not relevant for the model, so I decided to comment them even I created them for improving the ML revenue model."
   ]
  },
  {
   "cell_type": "code",
   "execution_count": 11,
   "metadata": {},
   "outputs": [],
   "source": [
    "# #Meals Order\n",
    "# total_meals_ord_lo  = 50\n",
    "# total_meals_ord_hi = 280\n",
    "\n",
    "# #Product Categories\n",
    "# product_categories_viewed_lo = 3\n",
    "# product_categories_viewed_mid = 7\n",
    "# product_categories_viewed_hi = 10\n",
    "\n",
    "# #Average Time\n",
    "# avg_time_per_site_visit_lo = 60\n",
    "# avg_time_per_site_visit_mid = 140\n",
    "# avg_time_per_site_visit_hi = 620\n",
    "\n",
    "# #Weekly Plan\n",
    "# weekly_plan_lo = 15\n",
    "# weekly_plan_mid = 33\n",
    "# weekly_plan_hi = 60\n",
    "\n",
    "# #Followed Recommendation\n",
    "# followed_recommendations_lo = 23\n",
    "# followed_recommendations_hi = 90\n",
    "\n",
    "# #Av_Prep_vid_time\n",
    "# av_prep_vid_time_lo = 98\n",
    "# av_prep_vid_time_mid = 162\n",
    "# av_prep_vid_time_hi = 330\n",
    "\n",
    "# #Photo Viewed\n",
    "# photos_viewed_lo = 90\n",
    "# photos_viewed_hi = 500\n",
    "\n",
    "# #Med_Meal\n",
    "# med_meal_rat_1 = 1\n",
    "# med_meal_rat_2 = 2\n",
    "# med_meal_rat_3 = 3\n",
    "# med_meal_rat_5 = 5\n",
    "\n",
    "# #WEEKLY_PLAN\n",
    "# out_weekly_plan = 15\n",
    "\n",
    "# original_df[\"out_weekly_plan\"] = 0\n",
    "# condition = original_df.loc[0:,'out_weekly_plan'][original_df['WEEKLY_PLAN'] > out_weekly_plan]\n",
    "# original_df['out_weekly_plan'].replace(to_replace = condition,\n",
    "#                               value      = 1,\n",
    "#                               inplace    = True)\n",
    "\n",
    "# #TOTAL_MEALS_ORDERED\n",
    "# out_total_meals_ordered = 335\n",
    "\n",
    "# original_df['out_total_meals_ordered'] = 0\n",
    "# condition = original_df.loc[0:,'out_total_meals_ordered'][original_df['TOTAL_MEALS_ORDERED'] > out_total_meals_ordered]\n",
    "# original_df['out_total_meals_ordered'].replace(to_replace = condition,\n",
    "#                                value      = 1,\n",
    "#                                inplace    = True)\n",
    "\n",
    "# #Unique Meal Purch (maybe)\n",
    "# out_UNIQUE_MEALS_PURCH = 10\n",
    "# original_df['out_UNIQUE_MEALS_PURCH'] = 0\n",
    "# condition = original_df.loc[0:,'out_UNIQUE_MEALS_PURCH'][original_df['UNIQUE_MEALS_PURCH'] > out_UNIQUE_MEALS_PURCH]\n",
    "# original_df['out_UNIQUE_MEALS_PURCH'].replace(to_replace = condition,\n",
    "#                                value      = 1,\n",
    "#                                inplace    = True)\n",
    "\n",
    "# #Contacts w customer service\n",
    "# out_CONTACTS_W_CUSTOMER_SERVICE = 12 \n",
    "# original_df['out_CONTACTS_W_CUSTOMER_SERVICE'] = 0\n",
    "# condition = original_df.loc[0:,'out_CONTACTS_W_CUSTOMER_SERVICE'][original_df['CONTACTS_W_CUSTOMER_SERVICE'] > out_CONTACTS_W_CUSTOMER_SERVICE]\n",
    "# original_df['out_CONTACTS_W_CUSTOMER_SERVICE'].replace(to_replace = condition,\n",
    "#                                value      = 1,\n",
    "#                                inplace    = True)\n",
    "\n",
    "# #Av Prep Video Time\n",
    "# out_AVG_PREP_VID_TIME = 325\n",
    "# original_df['out_AVG_PREP_VID_TIME'] = 0\n",
    "# condition = original_df.loc[0:,'out_AVG_PREP_VID_TIME'][original_df['AVG_PREP_VID_TIME'] > out_AVG_PREP_VID_TIME]\n",
    "# original_df['out_AVG_PREP_VID_TIME'].replace(to_replace = condition,\n",
    "#                                value      = 1,\n",
    "#                                inplace    = True)\n"
   ]
  },
  {
   "cell_type": "markdown",
   "metadata": {},
   "source": [
    "# Correlation with the Revenue"
   ]
  },
  {
   "cell_type": "markdown",
   "metadata": {},
   "source": [
    "In this section I want to identify which variables matter the most and are highly correlated to revenue. \n",
    "Then, knowing this information I will create new features to improve the model. "
   ]
  },
  {
   "cell_type": "code",
   "execution_count": 12,
   "metadata": {
    "code_folding": []
   },
   "outputs": [
    {
     "name": "stdout",
     "output_type": "stream",
     "text": [
      "I considered to use the Ordinary Least Squares (OLS) but our variables do not meet the basic OLS assumptions: \n",
      "\n",
      "- The linear regression model is “linear in parameters\"\n",
      "\n",
      "- There is a random sampling of observations\n",
      "\n",
      "- The conditional mean should be zero\n",
      "\n",
      "- There is no multi-collinearity (or perfect collinearity)\n",
      "\n",
      "- Spherical errors: There is homoscedasticity and no autocorrelation\n",
      "\n",
      "- Optional Assumption: Error terms should be normally distributed\n",
      "\n",
      "Only few variables meet these requirements in our model and wouldn't be effective to run these analysis only\n",
      "for few variables because I would be missing important information from the other ones. \n",
      "Information from: https://www.albert.io/blog/key-assumptions-of-ols-econometrics-review/ \n"
     ]
    }
   ],
   "source": [
    "##############################\n",
    "#Ordinary Least Squares (OLS)# \n",
    "##############################\n",
    "\n",
    "def print_OLS_comment():\n",
    "    print (\"\"\"I considered to use the Ordinary Least Squares (OLS) but our variables do not meet the basic OLS assumptions: \n",
    "\n",
    "- The linear regression model is “linear in parameters\"\n",
    "\n",
    "- There is a random sampling of observations\n",
    "\n",
    "- The conditional mean should be zero\n",
    "\n",
    "- There is no multi-collinearity (or perfect collinearity)\n",
    "\n",
    "- Spherical errors: There is homoscedasticity and no autocorrelation\n",
    "\n",
    "- Optional Assumption: Error terms should be normally distributed\n",
    "\n",
    "Only few variables meet these requirements in our model and wouldn't be effective to run these analysis only\n",
    "for few variables because I would be missing important information from the other ones. \n",
    "Information from: https://www.albert.io/blog/key-assumptions-of-ols-econometrics-review/ \"\"\")\n",
    "    \n",
    "print_OLS_comment()"
   ]
  },
  {
   "cell_type": "code",
   "execution_count": 13,
   "metadata": {},
   "outputs": [
    {
     "name": "stdout",
     "output_type": "stream",
     "text": [
      "REVENUE                         1.00\n",
      "AVG_PREP_VID_TIME               0.64\n",
      "MEDIAN_MEAL_RATING              0.61\n",
      "TOTAL_MEALS_ORDERED             0.60\n",
      "med_meal_rat_4                  0.59\n",
      "TOTAL_PHOTOS_VIEWED             0.47\n",
      "MASTER_CLASSES_ATTENDED         0.45\n",
      "LARGEST_ORDER_SIZE              0.44\n",
      "AVG_TIME_PER_SITE_VISIT         0.14\n",
      "CONTACTS_W_CUSTOMER_SERVICE     0.10\n",
      "PRODUCT_CATEGORIES_VIEWED       0.03\n",
      "MOBILE_NUMBER                   0.03\n",
      "PC_LOGINS                       0.02\n",
      "CANCELLATIONS_BEFORE_NOON       0.01\n",
      "TASTES_AND_PREFERENCES          0.01\n",
      "WEEKLY_PLAN                     0.01\n",
      "EARLY_DELIVERIES               -0.00\n",
      "REFRIGERATED_LOCKER            -0.00\n",
      "CROSS_SELL_SUCCESS              0.00\n",
      "m_FAMILY_NAME                  -0.01\n",
      "LATE_DELIVERIES                -0.01\n",
      "PACKAGE_LOCKER                 -0.01\n",
      "MOBILE_LOGINS                  -0.02\n",
      "FOLLOWED_RECOMMENDATIONS_PCT   -0.02\n",
      "CANCELLATIONS_AFTER_NOON       -0.04\n",
      "UNIQUE_MEALS_PURCH             -0.06\n",
      "AVG_CLICKS_PER_VISIT           -0.55\n",
      "Name: REVENUE, dtype: float64\n"
     ]
    }
   ],
   "source": [
    "# creating a (Pearson) correlation matrix\n",
    "df_corr = original_df.corr().round(2)\n",
    "\n",
    "# printing (Pearson) correlations with SalePrice\n",
    "print(df_corr.loc['REVENUE'].sort_values(ascending = False))"
   ]
  },
  {
   "cell_type": "markdown",
   "metadata": {},
   "source": [
    "Below are the variables with highest correlation with the revenue: \n",
    "\n",
    "AVG_PREP_VID_TIME                     0.64\n",
    "MEDIAN_MEAL_RATING                    0.61\n",
    "TOTAL_MEALS_ORDERED                   0.60\n",
    "TOTAL_PHOTOS_VIEWED                   0.47\n",
    "MASTER_CLASSES_ATTENDED               0.45\n",
    "LARGEST_ORDER_SIZE                    0.44\n",
    "\n",
    "This information will be really valid to create new features for the model.\n",
    "\n",
    "Also, notice Average Clicks Per Visit are negatively correlated with revenue. It makes sense, since usually only platforms pay $ per click. I noticed that the customers with higher clicks are the ones that produce less revenue. "
   ]
  },
  {
   "cell_type": "markdown",
   "metadata": {},
   "source": [
    "# Featuring Variables"
   ]
  },
  {
   "cell_type": "markdown",
   "metadata": {},
   "source": [
    "In this section I created 3 new variables that are adding value to the model.\n",
    "\n",
    "The first one is **final orders** which I considered to be really valuable to create since the cancellations before noon are fully reimbursed. It means that the total meals ordered are counting the cancellations before noon. Since I have the information about the total cancellations before noon and this is related to the revenue to create a new column with the final orders will help on the prediction.  \n",
    "\n",
    "The second one is **meals options** which I considered to also be really valuable for the model since this new feature will tell how diversified are our customers in terms of meals orders.\n",
    "\n",
    "Last but not least is **total orders customer service** which I also considered to be really valuable for the model since it will indicate the frequency of clients contacting the customer service compared with the total meals ordered. \n",
    "\n",
    "Below the formulas:"
   ]
  },
  {
   "cell_type": "code",
   "execution_count": 14,
   "metadata": {},
   "outputs": [],
   "source": [
    "#Final Orders\n",
    "original_df['final_orders'] = original_df['TOTAL_MEALS_ORDERED'] - original_df['CANCELLATIONS_BEFORE_NOON']\n",
    "\n",
    "#Meals Options\n",
    "original_df['meals_options'] = original_df['UNIQUE_MEALS_PURCH']/original_df['TOTAL_MEALS_ORDERED']\n",
    "\n",
    "#Total Orders Contact Cust Services\n",
    "original_df['total_orders_custserv'] = original_df['CONTACTS_W_CUSTOMER_SERVICE'] /  original_df['TOTAL_MEALS_ORDERED']\n"
   ]
  },
  {
   "cell_type": "markdown",
   "metadata": {},
   "source": [
    "***\n",
    "I tried to use other features such as total unique orders, total orders without cancellations, meal options, total logins, total logs, ratio customer engagement, speed web and sales. Nevertheless, those features were not relevant for the model. "
   ]
  },
  {
   "cell_type": "code",
   "execution_count": 15,
   "metadata": {},
   "outputs": [],
   "source": [
    "#df['total_unique_orders'] =  df.UNIQUE_MEALS_PURCH / df.TOTAL_MEALS_ORDERED \n",
    "#df['total_orders_without_cancellations'] = df.TOTAL_MEALS_ORDERED - (df.CANCELLATIONS_BEFORE_NOON + df.CANCELLATIONS_AFTER_NOON)\n",
    "#df['meal_options'] = df[UNIQUE_MEALS_PURCH] / df.TOTAL_MEALS_ORDERED\n",
    "#df['total_logins'] = df['PC_LOGINS'] + df['MOBILE_LOGINS']\n",
    "#df['total_logs'] = df['PC_LOGINS'] + df['MOBILE_LOGINS']\n",
    "#df['ratio_cust_eng'] = df['AVG_PREP_VID_TIME']/ df['AVG_TIME_PER_SITE_VISIT']\n",
    "#df['speed_web'] = df['AVG_TIME_PER_SITE_VISIT']/df['PRODUCT_CATEGORIES_VIEWED']\n",
    "#df['sales'] = df['TOTAL_PHOTOS_VIEWED']/ df['TOTAL_MEALS_ORDERED']\n",
    "#original_df['total_orders_without_cancellations'] = original_df['TOTAL_MEALS_ORDERED'] - (original_df['CANCELLATIONS_BEFORE_NOON'] + original_df['CANCELLATIONS_AFTER_NOON'])\n"
   ]
  },
  {
   "cell_type": "markdown",
   "metadata": {},
   "source": [
    "# Prediction Model ML"
   ]
  },
  {
   "cell_type": "markdown",
   "metadata": {},
   "source": [
    "After creating new features and cleaning the data set I am going to use the variables to predict the revenue.\n",
    "I tried the model with the variable revenue and the variable log revenue. The model estimates better with the log revenue so I decided to use it."
   ]
  },
  {
   "cell_type": "code",
   "execution_count": 16,
   "metadata": {},
   "outputs": [],
   "source": [
    "original_df['LOG_REVENUE'] = np.log(original_df['REVENUE'])"
   ]
  },
  {
   "cell_type": "markdown",
   "metadata": {},
   "source": [
    "The seed is 222<br>\n",
    "Test size is 0.25"
   ]
  },
  {
   "cell_type": "code",
   "execution_count": 17,
   "metadata": {},
   "outputs": [],
   "source": [
    "df_scaled = original_df.copy()\n",
    "df_scaled = df_scaled.drop(['NAME', 'EMAIL', 'FIRST_NAME','FAMILY_NAME'], axis = 1)\n",
    "\n",
    "#Scaling\n",
    "scaler = RobustScaler().fit(df_scaled)\n",
    "scaler.transform(df_scaled)\n",
    "\n",
    "y = df_scaled.copy()\n",
    "\n",
    "X =['TOTAL_MEALS_ORDERED',            \n",
    "    'UNIQUE_MEALS_PURCH',           \n",
    "    'CONTACTS_W_CUSTOMER_SERVICE',   \n",
    "    'AVG_TIME_PER_SITE_VISIT',    \n",
    "    'AVG_PREP_VID_TIME',           \n",
    "    'LARGEST_ORDER_SIZE',           \n",
    "    'MASTER_CLASSES_ATTENDED',         \n",
    "    'MEDIAN_MEAL_RATING',            \n",
    "    'TOTAL_PHOTOS_VIEWED',\n",
    "    'meals_options',\n",
    "    'med_meal_rat_4',\n",
    "    'final_orders',\n",
    "    'total_orders_custserv'\n",
    "]\n",
    "\n",
    "#Target Variable \n",
    "independent_data = df_scaled[X]\n",
    "y = df_scaled.loc[:, 'LOG_REVENUE']\n",
    "\n",
    "# running train/test split again\n",
    "X_train, X_test, y_train, y_test = train_test_split(independent_data,\n",
    "                                                    y,\n",
    "                                                    test_size    = 0.25,\n",
    "                                                    random_state = 222)"
   ]
  },
  {
   "cell_type": "code",
   "execution_count": 18,
   "metadata": {},
   "outputs": [
    {
     "name": "stdout",
     "output_type": "stream",
     "text": [
      "Training Score: 0.75\n",
      "Testing Score: 0.68\n"
     ]
    }
   ],
   "source": [
    "# INSTANTIATING a model object\n",
    "lr = LinearRegression()\n",
    "\n",
    "\n",
    "# FITTING to the training data\n",
    "lr_fit = lr.fit(X_train, y_train)\n",
    "\n",
    "\n",
    "# PREDICTING on new data\n",
    "lr_pred = lr_fit.predict(X_test)\n",
    "\n",
    "\n",
    "# SCORING the results\n",
    "\n",
    "print('Training Score:', lr.score(X_train, y_train).round(2)) \n",
    "print('Testing Score:',  lr.score(X_test, y_test).round(2))\n",
    "\n",
    "\n",
    "lr_train_score = lr.score(X_train, y_train).round(2)\n",
    "lr_test_score  = lr.score(X_test, y_test).round(2)"
   ]
  },
  {
   "cell_type": "code",
   "execution_count": 19,
   "metadata": {},
   "outputs": [
    {
     "name": "stdout",
     "output_type": "stream",
     "text": [
      "Training Score: 0.7453\n",
      "Testing Score: 0.6832\n"
     ]
    }
   ],
   "source": [
    "# Ridge Model\n",
    "ridge_model = sklearn.linear_model.Ridge()\n",
    "\n",
    "# FITTING the training data\n",
    "ridge_fit  = ridge_model.fit(X_train, y_train)\n",
    "\n",
    "\n",
    "# PREDICTING on new data\n",
    "ridge_pred = ridge_fit.predict(X_test)\n",
    "\n",
    "print('Training Score:', ridge_model.score(X_train, y_train).round(4))\n",
    "print('Testing Score:',  ridge_model.score(X_test, y_test).round(4))\n",
    "\n",
    "\n",
    "# saving scoring data for future use\n",
    "#save it as an object\n",
    "#look the coeficients and will weight them for us\n",
    "ridge_train_score = ridge_model.score(X_train, y_train).round(4)\n",
    "ridge_test_score  = ridge_model.score(X_test, y_test).round(4)"
   ]
  },
  {
   "cell_type": "code",
   "execution_count": 20,
   "metadata": {},
   "outputs": [
    {
     "name": "stdout",
     "output_type": "stream",
     "text": [
      "Training Score: 0.5513\n",
      "Testing Score: 0.5211\n"
     ]
    }
   ],
   "source": [
    "#Lasso model\n",
    "# INSTANTIATING a model object\n",
    "lasso_model = sklearn.linear_model.Lasso()\n",
    "\n",
    "# FITTING the training data\n",
    "lasso_fit = lasso_model.fit(X_train, y_train)\n",
    "\n",
    "\n",
    "# PREDICTING on new data\n",
    "lasso_pred = lasso_fit.predict(X_test)\n",
    "\n",
    "print('Training Score:', lasso_model.score(X_train, y_train).round(4))\n",
    "print('Testing Score:',  lasso_model.score(X_test, y_test).round(4))\n",
    "\n",
    "\n",
    "# saving scoring data for future use\n",
    "# lasso: optimization algorithm Looking to coef and seeing which variables are significant\n",
    "# shrink the coeficcient to make the variables less valuable in that model\n",
    "#variables of interest for us\n",
    "lasso_train_score = lasso_model.score(X_train, y_train).round(4)\n",
    "lasso_test_score  = lasso_model.score(X_test, y_test).round(4)"
   ]
  },
  {
   "cell_type": "markdown",
   "metadata": {},
   "source": [
    "I tried to used the Linear Regression, the Lasso and the Ridge but the score is not high enough."
   ]
  },
  {
   "cell_type": "markdown",
   "metadata": {},
   "source": [
    "# Final Predictive Model: Gradient Boosting"
   ]
  },
  {
   "cell_type": "markdown",
   "metadata": {},
   "source": [
    "In this section, I am going to state the model that gave me the highest score. <br>\n",
    "Gradient Boosting Model gives a great revenue prediction based on the following variables: <br>\n",
    "    'TOTAL_MEALS_ORDERED',            \n",
    "    'UNIQUE_MEALS_PURCH',           \n",
    "    'CONTACTS_W_CUSTOMER_SERVICE',   \n",
    "    'AVG_TIME_PER_SITE_VISIT',    \n",
    "    'AVG_PREP_VID_TIME',           \n",
    "    'LARGEST_ORDER_SIZE',           \n",
    "    'MASTER_CLASSES_ATTENDED',         \n",
    "    'MEDIAN_MEAL_RATING',            \n",
    "    'TOTAL_PHOTOS_VIEWED',<br>\n",
    "    'meals_options',<br>\n",
    "    'med_meal_rat_4',<br>\n",
    "    'final_orders',<br>\n",
    "    'total_orders_custserv'\n",
    "\n",
    "The Training Score is: 0.854<br>\n",
    "The Test Score is: 0.802"
   ]
  },
  {
   "cell_type": "code",
   "execution_count": 21,
   "metadata": {},
   "outputs": [
    {
     "name": "stdout",
     "output_type": "stream",
     "text": [
      "Training Score: 0.854\n",
      "Testing Score: 0.802\n"
     ]
    }
   ],
   "source": [
    "#Gradient Boosting\n",
    "gbt = GradientBoostingRegressor(\n",
    "                                n_estimators = 155,\n",
    "                                max_depth = 2, \n",
    "                                min_samples_leaf = 114\n",
    ")\n",
    "\n",
    "gbt_model = gbt.fit(X_train, y_train)\n",
    "y_pred = gbt.predict(X_test)\n",
    "\n",
    "\n",
    "print('Training Score:', gbt.score(X_train, y_train).round(3))\n",
    "print('Testing Score:',  gbt.score(X_test, y_test).round(3))\n",
    "\n",
    "\n",
    "gbt_score_train = gbt.score(X_train, y_train).round(3)\n",
    "gbt_score_test  = gbt.score(X_test, y_test).round(3)"
   ]
  },
  {
   "cell_type": "code",
   "execution_count": 22,
   "metadata": {},
   "outputs": [
    {
     "data": {
      "image/png": "[encoded data removed]",
      "text/plain": [
       "<Figure size 432x288 with 1 Axes>"
      ]
     },
     "metadata": {
      "needs_background": "light"
     },
     "output_type": "display_data"
    }
   ],
   "source": [
    "# Plot feature importance\n",
    "feature_importance = gbt_model.feature_importances_\n",
    "\n",
    "# make importances relative to max importance\n",
    "feature_importance = 100.0 * (feature_importance / feature_importance.max())\n",
    "sorted_idx = np.argsort(feature_importance)\n",
    "pos = np.arange(sorted_idx.shape[0]) + .5\n",
    "\n",
    "plt.barh(pos, feature_importance[sorted_idx], align='center')\n",
    "plt.yticks(pos, X_train.columns[sorted_idx])\n",
    "plt.xlabel('Relative Importance')\n",
    "plt.title('Variable Importance')\n",
    "plt.show()\n",
    "\n",
    "#Link: https://scikit-learn.org/stable/auto_examples/ensemble/plot_forest_importances.html"
   ]
  },
  {
   "cell_type": "markdown",
   "metadata": {},
   "source": [
    "As we can see all the variables used to predict the revenue are relevant for the model. The plot indicates that the most important variable is average preparation video time, median meal rating, total meals ordered and the 3 featured variables created before such as: meals option, final orders and med_meal_rat_4. "
   ]
  },
  {
   "cell_type": "markdown",
   "metadata": {},
   "source": [
    "# Conclusions"
   ]
  },
  {
   "cell_type": "markdown",
   "metadata": {},
   "source": [
    "At the beginning of the case I set the goal to perform the analysis addressing the following question:<br>\n",
    "**How much revenue each customer will generate during their first year of orders?**\n",
    "\n",
    "Using the Gradient Boosting Model I am able to predict how much revenue each customer will generate during the first year of orders with 80% accuracy on the test set. \n",
    "\n",
    "The hypothesis that I stated at the beginning of the analysis helped to drive the analysis towards a clear direction. \n",
    "\n",
    "- The first hypothesis wasn't meet since I learned that the average clicks per visit is negatively correlated to the revenue. Also, I discovered that the customers that generate more clicks are the ones producing less revenue. That explain the negative correlation. \n",
    "\n",
    "- The second hypothesis stated as: total photos viewed and master class attended indicates the engagement of the customers. It may be related to the engagement of the customers but clearly those two variables improved the prediction of the revenue as we can see in the graph of 'Variable Importance'.\n",
    "\n",
    "- Last but not least, the average time per site visit at the beginning I thought that the more time spend in the website more probabilities of ordering a new meal would happened. In this case, this variable as we can see in the graph is the least important for our revenue prediction but is still considered as one of the key drivers. \n",
    "\n",
    "Overall, some variables were excluded since I tried to optimize as much as possible the prediction of the revenue. At the end 80% of accuracy was met on the test set. "
   ]
  }
 ],
 "metadata": {
  "kernelspec": {
   "display_name": "Python 3",
   "language": "python",
   "name": "python3"
  },
  "language_info": {
   "codemirror_mode": {
    "name": "ipython",
    "version": 3
   },
   "file_extension": ".py",
   "mimetype": "text/x-python",
   "name": "python",
   "nbconvert_exporter": "python",
   "pygments_lexer": "ipython3",
   "version": "3.7.3"
  },
  "toc": {
   "base_numbering": 1,
   "nav_menu": {},
   "number_sections": true,
   "sideBar": true,
   "skip_h1_title": false,
   "title_cell": "Table of Contents",
   "title_sidebar": "Contents",
   "toc_cell": false,
   "toc_position": {},
   "toc_section_display": true,
   "toc_window_display": false
  },
  "varInspector": {
   "cols": {
    "lenName": 16,
    "lenType": 16,
    "lenVar": 40
   },
   "kernels_config": {
    "python": {
     "delete_cmd_postfix": "",
     "delete_cmd_prefix": "del ",
     "library": "var_list.py",
     "varRefreshCmd": "print(var_dic_list())"
    },
    "r": {
     "delete_cmd_postfix": ") ",
     "delete_cmd_prefix": "rm(",
     "library": "var_list.r",
     "varRefreshCmd": "cat(var_dic_list()) "
    }
   },
   "types_to_exclude": [
    "module",
    "function",
    "builtin_function_or_method",
    "instance",
    "_Feature"
   ],
   "window_display": false
  }
 },
 "nbformat": 4,
 "nbformat_minor": 4
}
